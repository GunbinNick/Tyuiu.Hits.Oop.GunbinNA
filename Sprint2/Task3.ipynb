{
 "cells": [
  {
   "cell_type": "markdown",
   "metadata": {},
   "source": [
    "<h1 style=\"color:DodgerBlue\">Индивидальный проект</h1>"
   ]
  },
  {
   "cell_type": "markdown",
   "metadata": {},
   "source": [
    "<h2 style=\"color:DodgerBlue\">Название проекта:</h2>\n",
    "\n",
    "----\n",
    "\n",
    "### Вариант задания №4\n"
   ]
  },
  {
   "cell_type": "markdown",
   "metadata": {},
   "source": [
    "<h2 style=\"color:DodgerBlue\">Описание проекта:</h2>\n",
    "\n",
    "----\n",
    "\n",
    "Создать базовый класс Product в C#, который будет представлять информацию о\n",
    "продуктах. На основе этого класса разработать 2-3 производных класса,\n",
    "демонстрирующих принципы наследования и полиморфизма. В каждом из классов\n",
    "должны быть реализованы новые атрибуты и методы, а также переопределены\n",
    "некоторые методы базового класса для демонстрации полиморфизма.\n",
    "\n",
    "#### Дополнительное задание\n",
    "Добавьте к сущестующим классам (базовому и производным 3-4 атрибута и метода) и реализуйте простое, сложное и множественное наследование"
   ]
  },
  {
   "cell_type": "markdown",
   "metadata": {},
   "source": [
    "<h2 style=\"color:DodgerBlue\">Реализация:</h2>\n",
    "\n",
    "----"
   ]
  },
  {
   "cell_type": "code",
   "execution_count": null,
   "metadata": {
    "dotnet_interactive": {
     "language": "csharp"
    },
    "polyglot_notebook": {
     "kernelName": "csharp"
    }
   },
   "outputs": [
    {
     "name": "stdout",
     "output_type": "stream",
     "text": [
      "Название - 1984; Производитель - Издательство АСТ; Цена - 239 руб.; Автор - Дж. Оруэлл; Жанр - Художественная литература \n",
      "\n",
      "Название - Худи; Производитель - OffWhite; Цена - 19299 руб.; Размер - 56\n",
      "Отображение товара Худи от OffWhite размера 56 на экране. \n",
      "\n",
      "Название - Samsung G5120; Производитель - Samsung; Цена - 42999 руб.; Гарантия - 4\n",
      "Применена скидка на 'Samsung G5120' от производителя Samsung с гарантией 4 года. Итоговая стоимость - 32249.25 руб., Гарантия переопределена - 2 года\n",
      "Отображение товара Samsung G5120' от Samsung на экране.\n",
      "\n",
      "Название - Удержать небо; Производитель - Издательство АСТ; Цена - 1099 руб.; Автор - Лю Цысинь\n"
     ]
    }
   ],
   "source": [
    "public abstract class Product\n",
    "{\n",
    "    public string Name { get; set; }\n",
    "    public string Manufacturer { get; set; }\n",
    "    public int Price { get; set; }\n",
    "\n",
    "    public Product(string name, string manufacturer, int price)\n",
    "    {\n",
    "        Name = name;\n",
    "        Manufacturer = manufacturer;\n",
    "        Price = price;\n",
    "    }\n",
    "\n",
    "    public virtual string GetInfo()\n",
    "    {\n",
    "        return $\"Название - {Name}; Производитель - {Manufacturer}; Цена - {Price} руб.\";\n",
    "    }\n",
    "\n",
    "    public virtual void Discount()\n",
    "    {\n",
    "        Console.WriteLine($\"Применена скидка на '{Name}' от производителя {Manufacturer}. Итоговая стоимость - {Price*0.75} руб.\");\n",
    "    }\n",
    "\n",
    "    public virtual void Display()\n",
    "    {\n",
    "        Console.WriteLine($\"Отображение товара {Name}' от {Manufacturer} на экране.\\n\");\n",
    "    }\n",
    "}\n",
    "public interface IClothes\n",
    "{\n",
    "    int Size { get; set; }\n",
    "}\n",
    "\n",
    "public class Clothing : Product, IClothes\n",
    "{\n",
    "    public int Size { get; set;}\n",
    "\n",
    "    public Clothing(string name, string manufacturer, int price, int size) : base(name, manufacturer, price)\n",
    "    {\n",
    "        Size = size;\n",
    "    }\n",
    "\n",
    "    public override string GetInfo()\n",
    "    {\n",
    "        return $\"{base.GetInfo()}; Размер - {Size}\";\n",
    "    }\n",
    "\n",
    "    public override void Display()\n",
    "    {\n",
    "        Console.WriteLine($\"Отображение товара {Name} от {Manufacturer} размера {Size} на экране. \\n\");\n",
    "    }\n",
    "}\n",
    "\n",
    "public class Books : Product\n",
    "{\n",
    "    public string Author { get; set; }\n",
    "\n",
    "    public Books(string name, string manufacturer, int price, string author) : base(name, manufacturer, price)\n",
    "    {\n",
    "        Author = author;\n",
    "    }\n",
    "\n",
    "    public override string GetInfo()\n",
    "    {\n",
    "        return $\"{base.GetInfo()}; Автор - {Author}\";\n",
    "    }\n",
    "}\n",
    "\n",
    "public class Fiction : Books\n",
    "{\n",
    "    public string Genre { get; set; }\n",
    "\n",
    "    public Fiction(string name, string manufacturer, int price, string author, string genre) : base(name, manufacturer, price, author)\n",
    "    {\n",
    "        Genre = genre;\n",
    "    }\n",
    "\n",
    "    public override string GetInfo()\n",
    "    {\n",
    "        return $\"{base.GetInfo()}; Жанр - {Genre} \\n\";\n",
    "    }\n",
    "}\n",
    "\n",
    "public class Electronics : Product\n",
    "{\n",
    "    public int WarrantyPeriod { get; set; }\n",
    "\n",
    "    public Electronics(string name, string manufacturer, int price, int warrantyPeriod) : base(name, manufacturer, price)\n",
    "    {\n",
    "        WarrantyPeriod = warrantyPeriod;\n",
    "    }\n",
    "\n",
    "    public override string GetInfo()\n",
    "    {\n",
    "        return $\"{base.GetInfo()}; Гарантия - {WarrantyPeriod}\";\n",
    "    }    \n",
    "\n",
    "    public override void Discount()\n",
    "    {\n",
    "        Console.WriteLine($\"Применена скидка на '{Name}' от производителя {Manufacturer} с гарантией {WarrantyPeriod} года. Итоговая стоимость - {Price*0.75} руб., Гарантия переопределена - {WarrantyPeriod/2} года\");\n",
    "    }\n",
    "}\n",
    "\n",
    "// Пример вызова метода GetInfo и вывода результата\n",
    "Fiction diction = new Fiction(\"1984\", \"Издательство АСТ\", 239, \"Дж. Оруэлл\", \"Художественная литература\");\n",
    "Console.WriteLine(diction.GetInfo());\n",
    "\n",
    "Clothing clother = new Clothing(\"Худи\", \"OffWhite\", 19299, 56);\n",
    "Console.WriteLine(clother.GetInfo());\n",
    "clother.Display();\n",
    "\n",
    "Electronics tv = new Electronics(\"Samsung G5120\", \"Samsung\", 42999, 4);\n",
    "Console.WriteLine(tv.GetInfo());\n",
    "tv.Discount();\n",
    "tv.Display();\n",
    "\n",
    "Books mybook = new Books(\"Удержать небо\", \"Издательство АСТ\", 1099, \"Лю Цысинь\");\n",
    "Console.WriteLine(mybook.GetInfo());"
   ]
  }
 ],
 "metadata": {
  "kernelspec": {
   "display_name": ".NET (C#)",
   "language": "C#",
   "name": ".net-csharp"
  },
  "polyglot_notebook": {
   "kernelInfo": {
    "defaultKernelName": "csharp",
    "items": [
     {
      "aliases": [],
      "languageName": "csharp",
      "name": "csharp"
     }
    ]
   }
  }
 },
 "nbformat": 4,
 "nbformat_minor": 2
}
