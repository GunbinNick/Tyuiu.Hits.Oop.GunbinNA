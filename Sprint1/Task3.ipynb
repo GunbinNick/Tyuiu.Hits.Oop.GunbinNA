{
 "cells": [
  {
   "cell_type": "markdown",
   "metadata": {},
   "source": [
    "<h1 style=\"color:DodgerBlue\">Индивидальный проект</h1>"
   ]
  },
  {
   "cell_type": "markdown",
   "metadata": {},
   "source": [
    "<h2 style=\"color:DodgerBlue\">Название проекта:</h2>\n",
    "\n",
    "----\n",
    "\n",
    "### Вариант задания - 5\n"
   ]
  },
  {
   "cell_type": "markdown",
   "metadata": {},
   "source": [
    "<h2 style=\"color:DodgerBlue\">Описание проекта:</h2>\n",
    "\n",
    "----\n",
    "\n",
    "Создать базовый класс Book в C#, который будет представлять информацию о\n",
    "книгах. На основе этого класса разработать 2-3 производных класса,\n",
    "демонстрирующих принципы наследования и полиморфизма. В каждом из классов\n",
    "должны быть реализованы новые атрибуты и методы, а также переопределены\n",
    "некоторые методы базового класса для демонстрации полиморфизма.\n",
    "\n",
    "#### Дополнительное задание\n",
    "Добавьте к сущестующим классам конструктора классов с использованием гетторов и сетторов и реализуйте взаимодействие объектов между собой"
   ]
  },
  {
   "cell_type": "markdown",
   "metadata": {},
   "source": [
    "<h2 style=\"color:DodgerBlue\">Реализация:</h2>\n",
    "\n",
    "----"
   ]
  },
  {
   "cell_type": "code",
   "execution_count": 1,
   "metadata": {
    "dotnet_interactive": {
     "language": "csharp"
    },
    "polyglot_notebook": {
     "kernelName": "csharp"
    }
   },
   "outputs": [
    {
     "name": "stdout",
     "output_type": "stream",
     "text": [
      "Название - Великий Гэтсби; Автор - Ф. Скотт Фицджеральд; Год публикации - 1925.\n",
      "Чтение книги 'Великий Гэтсби' от Ф. Скотт Фицджеральд.\n",
      "Книга 'Великий Гэтсби' от Ф. Скотт Фицджеральд выдана на чтение.\n",
      "\n",
      "Название - Algebra and Trigonometry; Автор - Jay Abramson; Год публикации - 2015., Предмет - Mathematics\n",
      "Чтение учебника 'Algebra and Trigonometry' от Jay Abramson по предмету Mathematics.\n",
      "Книга 'Algebra and Trigonometry' от Jay Abramson выдана на чтение.\n",
      "\n",
      "Название - Удержать небо; Автор - Лю Цысинь; Год публикации - 2024., Жанр - Фантастика\n",
      "Чтение книги 'Удержать небо' от Лю Цысинь.\n",
      "Книга в жанре Фантастика 'Удержать небо' от Лю Цысинь выдана на чтение.\n"
     ]
    }
   ],
   "source": [
    "public class Book\n",
    "{\n",
    "    public string Title { get; set; }\n",
    "    public string Author { get; set; }\n",
    "    public int YearOfPublication { get; set; }\n",
    "\n",
    "    public Book(string title, string author, int yearOfPublication)\n",
    "    {\n",
    "        Title = title;\n",
    "        Author = author;\n",
    "        YearOfPublication = yearOfPublication;\n",
    "    }\n",
    "\n",
    "    public virtual string GetInfo()\n",
    "    {\n",
    "        return $\"Название - {Title}; Автор - {Author}; Год публикации - {YearOfPublication}.\";\n",
    "    }\n",
    "\n",
    "    public virtual void Read()\n",
    "    {\n",
    "        Console.WriteLine($\"Чтение книги '{Title}' от {Author}.\");\n",
    "    }\n",
    "\n",
    "    public virtual void Borrow()\n",
    "    {\n",
    "        Console.WriteLine($\"Книга '{Title}' от {Author} выдана на чтение.\\n\");\n",
    "    }\n",
    "}\n",
    "\n",
    "public class Textbook : Book\n",
    "{\n",
    "    public string Subject { get; set; }\n",
    "\n",
    "    public Textbook(string title, string author, int yearOfPublication, string subject) : base(title, author, yearOfPublication)\n",
    "    {\n",
    "        Subject = subject;\n",
    "    }\n",
    "\n",
    "    public override string GetInfo()\n",
    "    {\n",
    "        return $\"{base.GetInfo()}, Предмет - {Subject}\";\n",
    "    }\n",
    "\n",
    "    public override void Read()\n",
    "    {\n",
    "        Console.WriteLine($\"Чтение учебника '{Title}' от {Author} по предмету {Subject}.\");\n",
    "    }\n",
    "}\n",
    "\n",
    "public class Fiction : Book\n",
    "{\n",
    "    public string Genre { get; set; }\n",
    "\n",
    "    public Fiction(string title, string author, int yearOfPublication, string genre) : base(title, author, yearOfPublication)\n",
    "    {\n",
    "        Genre = genre;\n",
    "    }\n",
    "\n",
    "    public override string GetInfo()\n",
    "    {\n",
    "        return $\"{base.GetInfo()}, Жанр - {Genre}\";\n",
    "    }\n",
    "\n",
    "    public override void Borrow()\n",
    "    {\n",
    "        Console.WriteLine($\"Книга в жанре {Genre} '{Title}' от {Author} выдана на чтение.\");\n",
    "    }\n",
    "}\n",
    "\n",
    "Book generalBook = new Book(\"Великий Гэтсби\", \"Ф. Скотт Фицджеральд\", 1925);\n",
    "Console.WriteLine(generalBook.GetInfo());\n",
    "generalBook.Read();\n",
    "generalBook.Borrow();\n",
    "\n",
    "Textbook mathTextbook = new Textbook(\"Algebra and Trigonometry\", \"Jay Abramson\", 2015, \"Mathematics\");\n",
    "Console.WriteLine(mathTextbook.GetInfo());\n",
    "mathTextbook.Read();\n",
    "mathTextbook.Borrow();\n",
    "\n",
    "Fiction fantasyFiction = new Fiction(\"Удержать небо\", \"Лю Цысинь\", 2024, \"Фантастика\");\n",
    "Console.WriteLine(fantasyFiction.GetInfo());\n",
    "fantasyFiction.Read();\n",
    "fantasyFiction.Borrow();\n"
   ]
  }
 ],
 "metadata": {
  "kernelspec": {
   "display_name": ".NET (C#)",
   "language": "C#",
   "name": ".net-csharp"
  },
  "polyglot_notebook": {
   "kernelInfo": {
    "defaultKernelName": "csharp",
    "items": [
     {
      "aliases": [],
      "languageName": "csharp",
      "name": "csharp"
     }
    ]
   }
  }
 },
 "nbformat": 4,
 "nbformat_minor": 2
}
