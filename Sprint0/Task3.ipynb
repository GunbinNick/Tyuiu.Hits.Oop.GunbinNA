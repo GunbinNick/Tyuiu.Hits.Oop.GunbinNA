{
 "cells": [
  {
   "cell_type": "markdown",
   "metadata": {},
   "source": [
    "<h1 style=\"color:DodgerBlue\">Индивидальный проект</h1>"
   ]
  },
  {
   "cell_type": "markdown",
   "metadata": {},
   "source": [
    "<h2 style=\"color:DodgerBlue\">Название проекта:</h2>\n",
    "\n",
    "----\n",
    "\n",
    "### Вариант задания 5\n"
   ]
  },
  {
   "cell_type": "markdown",
   "metadata": {},
   "source": [
    "<h2 style=\"color:DodgerBlue\">Описание проекта:</h2>\n",
    "\n",
    "----\n",
    "Создать базовый класс Book в C#, который будет представлять информацию о\n",
    "книгах. На основе этого класса разработать 2-3 производных класса,\n",
    "демонстрирующих принципы наследования и полиморфизма. В каждом из классов\n",
    "должны быть реализованы новые атрибуты и методы, а также переопределены\n",
    "некоторые методы базового класса для демонстрации полиморфизма."
   ]
  },
  {
   "cell_type": "markdown",
   "metadata": {},
   "source": [
    "<h2 style=\"color:DodgerBlue\">Реализация:</h2>\n",
    "\n",
    "----"
   ]
  },
  {
   "cell_type": "code",
   "execution_count": 2,
   "metadata": {
    "dotnet_interactive": {
     "language": "csharp"
    },
    "polyglot_notebook": {
     "kernelName": "csharp"
    }
   },
   "outputs": [
    {
     "name": "stdout",
     "output_type": "stream",
     "text": [
      "Название - 1984; Автор - Дж. Оруэлл; Год публикации - 1949\n",
      "Чтение книги '1984' от Дж. Оруэлл.\n",
      "Книга '1984' от Дж. Оруэлл выдана на чтение.\n"
     ]
    }
   ],
   "source": [
    "// Базовый класс Book\n",
    "public class Book\n",
    "{\n",
    "    public string Title { get; set; }\n",
    "    public string Author { get; set; }\n",
    "    public int YearOfPublication { get; set; }\n",
    "\n",
    "    public virtual string GetInfo()\n",
    "    {\n",
    "        return $\"Название - {Title}; Автор - {Author}; Год публикации - {YearOfPublication}\";\n",
    "    }\n",
    "\n",
    "    public virtual void Read()\n",
    "    {\n",
    "        Console.WriteLine($\"Чтение книги '{Title}' от {Author}.\");\n",
    "    }\n",
    "\n",
    "    public virtual void Borrow()\n",
    "    {\n",
    "        Console.WriteLine($\"Книга '{Title}' от {Author} выдана на чтение.\");\n",
    "    }\n",
    "}\n",
    "\n",
    "// Производный класс Textbook\n",
    "public class Textbook : Book\n",
    "{\n",
    "    public string Subject { get; set; }\n",
    "\n",
    "    public override string GetInfo()\n",
    "    {\n",
    "        return $\"{base.GetInfo()}, Предмет: {Subject}\";\n",
    "    }\n",
    "\n",
    "    public override void Read()\n",
    "    {\n",
    "        base.Read();\n",
    "        Console.WriteLine($\"Чтение учебника по предмету {Subject}.\");\n",
    "    }\n",
    "}\n",
    "\n",
    "// Производный класс Fiction\n",
    "public class Fiction : Book\n",
    "{\n",
    "    public string Genre { get; set; }\n",
    "\n",
    "    public override string GetInfo()\n",
    "    {\n",
    "        return $\"{base.GetInfo()}, Жанр: {Genre}\";\n",
    "    }\n",
    "\n",
    "    public override void Borrow()\n",
    "    {\n",
    "        base.Borrow();\n",
    "        Console.WriteLine($\"Книга в жанре {Genre} '{Title}' от {Author} выдана на чтение.\");\n",
    "    }\n",
    "}\n",
    "\n",
    "// Создание объектов и вызов методов\n",
    "Book book = new Book { Title = \"1984\", Author = \"Дж. Оруэлл\", YearOfPublication = 1949 };\n",
    "Console.WriteLine(book.GetInfo());\n",
    "book.Read();\n",
    "book.Borrow();"
   ]
  }
 ],
 "metadata": {
  "kernelspec": {
   "display_name": ".NET (C#)",
   "language": "C#",
   "name": ".net-csharp"
  },
  "polyglot_notebook": {
   "kernelInfo": {
    "defaultKernelName": "csharp",
    "items": [
     {
      "aliases": [],
      "languageName": "csharp",
      "name": "csharp"
     }
    ]
   }
  }
 },
 "nbformat": 4,
 "nbformat_minor": 2
}
